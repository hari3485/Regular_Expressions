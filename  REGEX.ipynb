{
 "cells": [
  {
   "cell_type": "markdown",
   "id": "61a8968e",
   "metadata": {},
   "source": [
    "# Day 1"
   ]
  },
  {
   "cell_type": "markdown",
   "id": "3e7e580d",
   "metadata": {},
   "source": [
    "# Reg Ex"
   ]
  },
  {
   "cell_type": "markdown",
   "id": "23db4c52",
   "metadata": {},
   "source": [
    "1. Two types of patterns will be there in Reg-Ex\n",
    "- Simple pattern here we use \"In\" operator to identify\n",
    "- Complex Pattern here we use \"Reg ex\""
   ]
  },
  {
   "cell_type": "code",
   "execution_count": 2,
   "id": "dfeb056c",
   "metadata": {},
   "outputs": [],
   "source": [
    "import re"
   ]
  },
  {
   "cell_type": "code",
   "execution_count": 3,
   "id": "488b8b7d",
   "metadata": {},
   "outputs": [
    {
     "data": {
      "text/plain": [
       "<re.Match object; span=(1, 2), match='a'>"
      ]
     },
     "execution_count": 3,
     "metadata": {},
     "output_type": "execute_result"
    }
   ],
   "source": [
    "re.search(\"a\",\"haririwnjdnjnfjnfknchandan\")"
   ]
  },
  {
   "cell_type": "code",
   "execution_count": 4,
   "id": "32d458f5",
   "metadata": {},
   "outputs": [
    {
     "data": {
      "text/plain": [
       "<re.Match object; span=(0, 2), match='hi'>"
      ]
     },
     "execution_count": 4,
     "metadata": {},
     "output_type": "execute_result"
    }
   ],
   "source": [
    "var1=\"hi hari how are you\"\n",
    "\n",
    "re.search(\"hi\",var1)\n",
    "\n",
    "## it gives start index and end index"
   ]
  },
  {
   "cell_type": "markdown",
   "id": "c9bf0cc9",
   "metadata": {},
   "source": [
    "1. Regularexpressions"
   ]
  },
  {
   "cell_type": "markdown",
   "id": "c7c9dcca",
   "metadata": {},
   "source": [
    "# Reg Ex\n",
    "\n",
    "- Two types of patterns will be there in Reg-Ex\n",
    "- Simple pattern here we use \"In\" operator to identify\n",
    "- Complex Pattern here we use \"Reg ex\"\n",
    "\n"
   ]
  },
  {
   "cell_type": "code",
   "execution_count": 5,
   "id": "561f40ca",
   "metadata": {},
   "outputs": [
    {
     "data": {
      "text/plain": [
       "<re.Match object; span=(0, 2), match='hi'>"
      ]
     },
     "execution_count": 5,
     "metadata": {},
     "output_type": "execute_result"
    }
   ],
   "source": [
    "import re\n",
    "\n",
    "re.search(\"a\",\"haririwnjdnjnfjnfknchandan\")\n",
    "\n",
    "var1=\"hi hari how are you\"\n",
    "\n",
    "re.search(\"hi\",var1)\n",
    "\n",
    "## it gives start index and end index import re"
   ]
  },
  {
   "cell_type": "code",
   "execution_count": 2,
   "id": "542148ed",
   "metadata": {},
   "outputs": [
    {
     "data": {
      "text/plain": [
       "<re.Match object; span=(1, 2), match='a'>"
      ]
     },
     "execution_count": 2,
     "metadata": {},
     "output_type": "execute_result"
    }
   ],
   "source": [
    "re.search(\"a\",\"baaaca\")"
   ]
  },
  {
   "cell_type": "markdown",
   "id": "dbae9fcb",
   "metadata": {},
   "source": [
    "- Here span is telling u in which postion your search has found a match.\n",
    "- match gives what it matched"
   ]
  },
  {
   "cell_type": "code",
   "execution_count": 3,
   "id": "64d5222f",
   "metadata": {},
   "outputs": [
    {
     "name": "stdout",
     "output_type": "stream",
     "text": [
      "match is found\n"
     ]
    }
   ],
   "source": [
    "if re.search(\"a\",\"baa\"):\n",
    "    print(\"match is found\")\n",
    "else:\n",
    "    print(\"match not found\")"
   ]
  },
  {
   "cell_type": "code",
   "execution_count": 5,
   "id": "209125f6",
   "metadata": {},
   "outputs": [],
   "source": [
    "re.search(\"f\",'abcde')\n",
    "\n",
    "# It didnt return any output"
   ]
  },
  {
   "cell_type": "markdown",
   "id": "8131567a",
   "metadata": {},
   "source": [
    "- Match object is nothing but \"truth value\" if match is true it returns \"match object \" other wise it wont give match object"
   ]
  },
  {
   "cell_type": "code",
   "execution_count": 6,
   "id": "4009ec37",
   "metadata": {},
   "outputs": [
    {
     "data": {
      "text/plain": [
       "<re.Match object; span=(2, 3), match='1'>"
      ]
     },
     "execution_count": 6,
     "metadata": {},
     "output_type": "execute_result"
    }
   ],
   "source": [
    "re.search(\"[b12c]\",\"aa1cbd\")"
   ]
  },
  {
   "cell_type": "markdown",
   "id": "bee4050f",
   "metadata": {},
   "source": [
    "# Findall()"
   ]
  },
  {
   "cell_type": "code",
   "execution_count": 6,
   "id": "3c0cd6d6",
   "metadata": {},
   "outputs": [
    {
     "name": "stdout",
     "output_type": "stream",
     "text": [
      "search---> <re.Match object; span=(0, 4), match='hari'>\n",
      "findall---> ['hari', 'hari']\n"
     ]
    }
   ],
   "source": [
    "print(\"search--->\",re.search(\"hari\",\"hari and harika both are friends\"))\n",
    "print(\"findall--->\",re.findall(\"hari\",\"hari is data scientist harika is data analyst \"))\n",
    "\n",
    "\n"
   ]
  },
  {
   "cell_type": "markdown",
   "id": "74faa987",
   "metadata": {},
   "source": [
    "- Here the main differnce between search and findall \n",
    "- search is  only showing  starting match i.e hari where as findall give all matches found which satisfies the condition here \"hari\" is the condition"
   ]
  },
  {
   "cell_type": "code",
   "execution_count": 6,
   "id": "4b0e46f9",
   "metadata": {},
   "outputs": [
    {
     "data": {
      "text/plain": [
       "['a', 'a', '1', 'c']"
      ]
     },
     "execution_count": 6,
     "metadata": {},
     "output_type": "execute_result"
    }
   ],
   "source": [
    "re.findall(\"[a12c]\",\"aa1cdb\")"
   ]
  },
  {
   "cell_type": "code",
   "execution_count": 10,
   "id": "de2a1e80",
   "metadata": {},
   "outputs": [
    {
     "data": {
      "text/plain": [
       "<re.Match object; span=(0, 1), match='2'>"
      ]
     },
     "execution_count": 10,
     "metadata": {},
     "output_type": "execute_result"
    }
   ],
   "source": [
    "re.search(\"[2a12]\",\"2aa1cb\")"
   ]
  },
  {
   "cell_type": "code",
   "execution_count": 11,
   "id": "7e925c74",
   "metadata": {},
   "outputs": [
    {
     "data": {
      "text/plain": [
       "['a', '1', '4']"
      ]
     },
     "execution_count": 11,
     "metadata": {},
     "output_type": "execute_result"
    }
   ],
   "source": [
    "a = \"hari is 1234\"\n",
    "re.findall(\"[a14]\",a)"
   ]
  },
  {
   "cell_type": "markdown",
   "id": "ac3229b7",
   "metadata": {},
   "source": [
    "- It finds all the patterns which are mentioned"
   ]
  },
  {
   "cell_type": "code",
   "execution_count": 3,
   "id": "9a43528e",
   "metadata": {},
   "outputs": [
    {
     "data": {
      "text/plain": [
       "['sa', 'xo', 'si', 'is', 'te', 'ac', 'hi', 'ng', 'ml']"
      ]
     },
     "execution_count": 3,
     "metadata": {},
     "output_type": "execute_result"
    }
   ],
   "source": [
    "var1 = \"saxon sir is teaching ml\"\n",
    "\n",
    "re.findall(\"[a-z][a-z]\",var1)\n",
    "\n",
    "#checking 2 characters at a time"
   ]
  },
  {
   "cell_type": "markdown",
   "id": "f4ad8350",
   "metadata": {},
   "source": [
    "- It is checking 2 letters at a time if there are existing then it prints them"
   ]
  },
  {
   "cell_type": "code",
   "execution_count": 11,
   "id": "a95edf15",
   "metadata": {},
   "outputs": [
    {
     "data": {
      "text/plain": [
       "['3q1']"
      ]
     },
     "execution_count": 11,
     "metadata": {},
     "output_type": "execute_result"
    }
   ],
   "source": [
    "var1 = \"saxon sir 201 is 3q1 searching 300 ml algorithms\"\n",
    "\n",
    "re.findall(\"[0-9][a-z][0-9]\",var1)"
   ]
  },
  {
   "cell_type": "code",
   "execution_count": 6,
   "id": "d8147a63",
   "metadata": {},
   "outputs": [
    {
     "data": {
      "text/plain": [
       "['a1']"
      ]
     },
     "execution_count": 6,
     "metadata": {},
     "output_type": "execute_result"
    }
   ],
   "source": [
    "a = \"hari is aa1223a data scientist\"\n",
    "\n",
    "re.findall(\"[a-z][0-9]\",a)\n",
    "\n",
    "# Here a character and number i need and there is only one pattern found"
   ]
  },
  {
   "cell_type": "code",
   "execution_count": 13,
   "id": "c99b1be4",
   "metadata": {},
   "outputs": [
    {
     "data": {
      "text/plain": [
       "['sa',\n",
       " 'xo',\n",
       " 'si',\n",
       " '20',\n",
       " 'is',\n",
       " '3q',\n",
       " 'se',\n",
       " 'ar',\n",
       " 'ch',\n",
       " 'in',\n",
       " '30',\n",
       " 'ml',\n",
       " 'al',\n",
       " 'go',\n",
       " 'ri',\n",
       " 'th',\n",
       " 'ms']"
      ]
     },
     "execution_count": 13,
     "metadata": {},
     "output_type": "execute_result"
    }
   ],
   "source": [
    "var1 = \"saxon sir 201 is 3q1 searching 300 ml algorithms @ ** ##\"\n",
    "\n",
    "\n",
    "re.findall(\"[a-zA-Z0-9][a-zA-Z0-9]\",var1)\n",
    "\n",
    "# Here frst,second can be [a-z or A-Z or 0-9] gives all with two characters "
   ]
  },
  {
   "cell_type": "code",
   "execution_count": 10,
   "id": "1204ab5b",
   "metadata": {},
   "outputs": [
    {
     "data": {
      "text/plain": [
       "['12A', 'AH3', 'har', '345', 'har', 'dat', 'aAN']"
      ]
     },
     "execution_count": 10,
     "metadata": {},
     "output_type": "execute_result"
    }
   ],
   "source": [
    "b = \"12AAH3 hari 345hari dataAN\"\n",
    "\n",
    "re.findall(\"[a-zA-Z0-9][a-zA-Z0-9][a-zA-Z0-9]\",b)"
   ]
  },
  {
   "cell_type": "markdown",
   "id": "7c9024dd",
   "metadata": {},
   "source": [
    "#### Dot Character"
   ]
  },
  {
   "cell_type": "code",
   "execution_count": 14,
   "id": "dadc5855",
   "metadata": {},
   "outputs": [
    {
     "data": {
      "text/plain": [
       "[' ',\n",
       " 'i',\n",
       " ' ',\n",
       " 'l',\n",
       " 'o',\n",
       " 'v',\n",
       " 'e',\n",
       " ' ',\n",
       " 'b',\n",
       " 'i',\n",
       " 'r',\n",
       " 'y',\n",
       " 'a',\n",
       " 'n',\n",
       " 'i',\n",
       " ' ',\n",
       " 'i',\n",
       " 'n',\n",
       " ' ',\n",
       " '1',\n",
       " '2',\n",
       " '3',\n",
       " ' ',\n",
       " 's',\n",
       " 't',\n",
       " 'r',\n",
       " 'e',\n",
       " 'e',\n",
       " 't']"
      ]
     },
     "execution_count": 14,
     "metadata": {},
     "output_type": "execute_result"
    }
   ],
   "source": [
    "var1 = \" i love biryani in 123 street\"\n",
    "\n",
    "re.findall(\".\",var1)\n",
    "\n",
    "# It matches each character except /n new line"
   ]
  },
  {
   "cell_type": "code",
   "execution_count": 16,
   "id": "caec3ecf",
   "metadata": {},
   "outputs": [
    {
     "data": {
      "text/plain": [
       "['s no####t', ' doi$$$$$', 'r@ctice%%', '%% sh&&&&', 'is W@sten', 'd 2 hours']"
      ]
     },
     "execution_count": 16,
     "metadata": {},
     "output_type": "execute_result"
    }
   ],
   "source": [
    "a = \"varshi i\\ns no####t doi$$$$$ng p\\nr@ctice%%%% sh&&&&e \\nis W@stend 2 hours\"\n",
    "\n",
    "re.findall(\".........\",a)"
   ]
  },
  {
   "cell_type": "code",
   "execution_count": 17,
   "id": "77ee4f2b",
   "metadata": {},
   "outputs": [
    {
     "data": {
      "text/plain": [
       "[' i',\n",
       " ' l',\n",
       " 'ov',\n",
       " 'e ',\n",
       " 'bi',\n",
       " 'ry',\n",
       " 'an',\n",
       " 'i ',\n",
       " 'in',\n",
       " '12',\n",
       " '3 ',\n",
       " 'st',\n",
       " 're',\n",
       " 'et']"
      ]
     },
     "execution_count": 17,
     "metadata": {},
     "output_type": "execute_result"
    }
   ],
   "source": [
    "var1 = \" i love biryani in \\n123 street\"\n",
    "\n",
    "re.findall(\"..\",var1)\n",
    "\n",
    "# it matches frst 2 characters alphanumric and space it ignores \\bn as it is new line"
   ]
  },
  {
   "cell_type": "markdown",
   "id": "0558acf5",
   "metadata": {},
   "source": [
    "#### \\w it matches any alphabets numbers including `\"_\"` skips space"
   ]
  },
  {
   "cell_type": "code",
   "execution_count": 18,
   "id": "75390f1f",
   "metadata": {},
   "outputs": [
    {
     "data": {
      "text/plain": [
       "['lo', 've', 'bS', 'Si', 'ry', 'aA', 'An', 'in', '12', 'st', 're', 'et', '__']"
      ]
     },
     "execution_count": 18,
     "metadata": {},
     "output_type": "execute_result"
    }
   ],
   "source": [
    "var1 = \" i love bSSiryaAAn@@i in \\n123 street __\"\n",
    "\n",
    "re.findall(\"\\w\\w\",var1)\n"
   ]
  },
  {
   "cell_type": "code",
   "execution_count": 26,
   "id": "74a4a9fd",
   "metadata": {},
   "outputs": [
    {
     "data": {
      "text/plain": [
       "['lo_', '_ve', 'bi_', 'r_y', 'ani', '123', 'str', 'eet']"
      ]
     },
     "execution_count": 26,
     "metadata": {},
     "output_type": "execute_result"
    }
   ],
   "source": [
    "var1 = \" i __ lo__ve bi_r_yani in \\n123 street __\"\n",
    "\n",
    "re.findall(\"\\w\\w\\w\",var1)\n",
    "\n",
    "#checks frst 3 letters are alphanumeric or \"_\""
   ]
  },
  {
   "cell_type": "markdown",
   "id": "fe4a6c5b",
   "metadata": {},
   "source": [
    "#### \\W it matches `only space \\n & special characters` it reverse of \\w"
   ]
  },
  {
   "cell_type": "code",
   "execution_count": 68,
   "id": "39bd3da9",
   "metadata": {},
   "outputs": [
    {
     "data": {
      "text/plain": [
       "[' ', '@', ' ', ' ', '*', '%', ' ', ' ', ' ', '\\n', ' ', '\\n', ' ']"
      ]
     },
     "execution_count": 68,
     "metadata": {},
     "output_type": "execute_result"
    }
   ],
   "source": [
    "var1 = \" i@ __ l*o__v%e bi_r_yani in \\n123 s\\ntreet __\"\n",
    "\n",
    "re.findall(\"\\W\",var1)\n",
    "\n",
    "# it only checks frst characte is space or \\n or special characters"
   ]
  },
  {
   "cell_type": "code",
   "execution_count": 67,
   "id": "e4e0649b",
   "metadata": {},
   "outputs": [
    {
     "data": {
      "text/plain": [
       "['**', ' &', ' \\n', '##', '##', '@@', '@@']"
      ]
     },
     "execution_count": 67,
     "metadata": {},
     "output_type": "execute_result"
    }
   ],
   "source": [
    "var1 = \" i __ lo__ve bi_r_yan**i &&in \\n####12@@@@3 street __\"\n",
    "\n",
    "re.findall(\"\\W\\W\",var1)\n",
    "\n",
    "# it only checks frst 2 characters  is space or \\n or spcial characters"
   ]
  },
  {
   "cell_type": "code",
   "execution_count": 22,
   "id": "4ef184d9",
   "metadata": {},
   "outputs": [
    {
     "data": {
      "text/plain": [
       "['ha', 'ri', '12', '13']"
      ]
     },
     "execution_count": 22,
     "metadata": {},
     "output_type": "execute_result"
    }
   ],
   "source": [
    "c = \"hari 1213 # @ \"\n",
    "\n",
    "re.findall(\"\\w\\w\",c)"
   ]
  },
  {
   "cell_type": "code",
   "execution_count": 21,
   "id": "cb5dc5ea",
   "metadata": {},
   "outputs": [
    {
     "data": {
      "text/plain": [
       "['@@@', '@ %', '%%%', '%\\n ']"
      ]
     },
     "execution_count": 21,
     "metadata": {},
     "output_type": "execute_result"
    }
   ],
   "source": [
    "a = \"h@@@@ %%%%%\\n &&7**\"\n",
    "\n",
    "re.findall(\"\\W\\W\\W\",a)"
   ]
  },
  {
   "cell_type": "code",
   "execution_count": 2,
   "id": "a4f06b34",
   "metadata": {},
   "outputs": [],
   "source": [
    "import re"
   ]
  },
  {
   "cell_type": "markdown",
   "id": "ff8daab6",
   "metadata": {},
   "source": [
    "#### Complex pattern where frst char should be `alphanumeric & \"_\"` second & third characters should take `space & \\n or special characters`"
   ]
  },
  {
   "cell_type": "code",
   "execution_count": 5,
   "id": "5f7263e5",
   "metadata": {},
   "outputs": [
    {
     "data": {
      "text/plain": [
       "['i@ ', 'n \\n', 'e()']"
      ]
     },
     "execution_count": 5,
     "metadata": {},
     "output_type": "execute_result"
    }
   ],
   "source": [
    "var1 = \" i@ __ lo__ve bi_r_yani in \\n@@@@123 stree()t __\"\n",
    "\n",
    "re.findall(\"\\w\\W\\W\",var1)"
   ]
  },
  {
   "cell_type": "code",
   "execution_count": 23,
   "id": "87a2271e",
   "metadata": {},
   "outputs": [
    {
     "data": {
      "text/plain": [
       "['h@', 'r#', '3 ', 'A ']"
      ]
     },
     "execution_count": 23,
     "metadata": {},
     "output_type": "execute_result"
    }
   ],
   "source": [
    "d = \"h@r# 233 &* _A _b\"\n",
    "\n",
    "re.findall(\"\\w\\W\",d)"
   ]
  },
  {
   "cell_type": "markdown",
   "id": "8f2521f0",
   "metadata": {},
   "source": [
    "#### Complex pattern where `second char` should be `alphanumeric & \"_\"` and `first character` should take `space & \\n and special characters`"
   ]
  },
  {
   "cell_type": "code",
   "execution_count": 64,
   "id": "f1b12534",
   "metadata": {},
   "outputs": [
    {
     "data": {
      "text/plain": [
       "[' i', ' _', ' l', ' b', '#n', ' i', '\\n1', ' s', '@t', ' _']"
      ]
     },
     "execution_count": 64,
     "metadata": {},
     "output_type": "execute_result"
    }
   ],
   "source": [
    "var1 = \" i __ lo__ve bi_r_ya####ni in \\n123 stree@@@t*** __\"\n",
    "\n",
    "re.findall(\"\\W\\w\",var1)"
   ]
  },
  {
   "cell_type": "markdown",
   "id": "d8fcd9f6",
   "metadata": {},
   "source": [
    "#### `\\D` matches everything except numbers  `\\d` it should have only numbers"
   ]
  },
  {
   "cell_type": "code",
   "execution_count": 27,
   "id": "afd204c7",
   "metadata": {},
   "outputs": [
    {
     "data": {
      "text/plain": [
       "[' i\\n',\n",
       " '\\n _',\n",
       " '_ l',\n",
       " 'o_$',\n",
       " '$$_',\n",
       " 've ',\n",
       " 'AAA',\n",
       " 'i_r',\n",
       " '_@@',\n",
       " '@ya',\n",
       " '##n',\n",
       " 'i i',\n",
       " 'n \\n',\n",
       " ' st',\n",
       " 'ree',\n",
       " 't _']"
      ]
     },
     "execution_count": 27,
     "metadata": {},
     "output_type": "execute_result"
    }
   ],
   "source": [
    "var1 = \" i\\n\\n __ lo_$$$_ve b123AAAi_r_@@@ya##ni in \\n123 street __\"\n",
    "\n",
    "re.findall(\"\\D\\D\\D\",var1)"
   ]
  },
  {
   "cell_type": "code",
   "execution_count": 33,
   "id": "39f81cf6",
   "metadata": {},
   "outputs": [
    {
     "data": {
      "text/plain": [
       "['8@', '3#', '9%', '4 ', '4(', '5)', '5_', '9\\n']"
      ]
     },
     "execution_count": 33,
     "metadata": {},
     "output_type": "execute_result"
    }
   ],
   "source": [
    "d = \"h@ # $ 8@643#829%4094 4(5) ** _5_ 9\\nad\"\n",
    "\n",
    "re.findall(\"\\d\\D\",d)"
   ]
  },
  {
   "cell_type": "code",
   "execution_count": 30,
   "id": "157daa86",
   "metadata": {},
   "outputs": [
    {
     "data": {
      "text/plain": [
       "['123', '737', '739', '123']"
      ]
     },
     "execution_count": 30,
     "metadata": {},
     "output_type": "execute_result"
    }
   ],
   "source": [
    "var1 = \" i __ lo__ve bi_r_123ya78ni 7377392in \\n123 street __\"\n",
    "\n",
    "re.findall(\"\\d\\d\\d\",var1)\n",
    "\n",
    "#frst 3 letters should be numbers "
   ]
  },
  {
   "cell_type": "code",
   "execution_count": 26,
   "id": "99875e54",
   "metadata": {},
   "outputs": [
    {
     "data": {
      "text/plain": [
       "['2', '3', '4', '9', '9', '9', '8']"
      ]
     },
     "execution_count": 26,
     "metadata": {},
     "output_type": "execute_result"
    }
   ],
   "source": [
    "a = \"hari 234 is going 9998\"\n",
    "\n",
    "re.findall(\"\\d\",a)"
   ]
  },
  {
   "cell_type": "markdown",
   "id": "16de7240",
   "metadata": {},
   "source": [
    "#### `\\s` it matches  space & new line `\\S` except space & new line it matches everythinng"
   ]
  },
  {
   "cell_type": "code",
   "execution_count": 38,
   "id": "fd49e5e9",
   "metadata": {},
   "outputs": [
    {
     "data": {
      "text/plain": [
       "[' ', ' ', ' ', ' ', ' ', ' ', '\\n', ' ', ' ']"
      ]
     },
     "execution_count": 38,
     "metadata": {},
     "output_type": "execute_result"
    }
   ],
   "source": [
    "var1 = \" i __ lo__ve bi_r_123ya7**$#8ni 7377392in \\n123 street __\"\n",
    "\n",
    "re.findall(\"\\s\",var1)\n",
    "\n",
    "# matches only \"space & \\n\""
   ]
  },
  {
   "cell_type": "code",
   "execution_count": 28,
   "id": "2a7eaeda",
   "metadata": {},
   "outputs": [
    {
     "data": {
      "text/plain": [
       "['lo_',\n",
       " '_ve',\n",
       " 'bi_',\n",
       " 'r_1',\n",
       " '23y',\n",
       " 'a78',\n",
       " '##@',\n",
       " '@ni',\n",
       " '737',\n",
       " '7..',\n",
       " '.39',\n",
       " '2in',\n",
       " '123',\n",
       " 'str',\n",
       " 'eet']"
      ]
     },
     "execution_count": 28,
     "metadata": {},
     "output_type": "execute_result"
    }
   ],
   "source": [
    "var1 = \" i __ lo__ve bi_r_123ya78##@@ni 7377...392in \\n123 street __\"\n",
    "\n",
    "re.findall(\"\\S\\S\\S\",var1)\n",
    "\n",
    "# it matches evrthing except \"space & newline\""
   ]
  },
  {
   "cell_type": "code",
   "execution_count": 41,
   "id": "867fa9cb",
   "metadata": {},
   "outputs": [
    {
     "data": {
      "text/plain": [
       "[' @', ' &', ' 8', ' *', ' #', ' _', ' _', '\\n8', '\\n9']"
      ]
     },
     "execution_count": 41,
     "metadata": {},
     "output_type": "execute_result"
    }
   ],
   "source": [
    "## Complex example\n",
    "\n",
    "b=\" @  \\n & 8 * ##  _  __ \\n8 \\n9\"\n",
    "\n",
    "re.findall(\"\\s\\S\",b)"
   ]
  },
  {
   "cell_type": "code",
   "execution_count": 50,
   "id": "bdf3b19d",
   "metadata": {},
   "outputs": [
    {
     "data": {
      "text/plain": [
       "[' ', ' ', ' ', ' ', ' ', ' ', '\\n', ' ', ' ']"
      ]
     },
     "execution_count": 50,
     "metadata": {},
     "output_type": "execute_result"
    }
   ],
   "source": [
    "var1 = \" i __ lo__ve bi_r_123ya78ni 73773@@92##in \\n123 street __\"\n",
    "\n",
    "re.findall(\"\\s\",var1)\n"
   ]
  },
  {
   "cell_type": "markdown",
   "id": "d79e46a4",
   "metadata": {},
   "source": [
    "# Anchors \n",
    "- ^  Starting   $ - End \n",
    "- \\b  Boundary condition use r string)"
   ]
  },
  {
   "cell_type": "markdown",
   "id": "8940d9f9",
   "metadata": {},
   "source": [
    "#### `^` it checks wheather the starting letter is satisfying the condition or not"
   ]
  },
  {
   "cell_type": "code",
   "execution_count": 36,
   "id": "fd447d35",
   "metadata": {},
   "outputs": [
    {
     "data": {
      "text/plain": [
       "[]"
      ]
     },
     "execution_count": 36,
     "metadata": {},
     "output_type": "execute_result"
    }
   ],
   "source": [
    "var1 = \"idwjdbks __ lo__ve bi_r_123ya78ni 7377392in \\n123 street __\"\n",
    "\n",
    "re.findall(\"^[A-Z]\",var1)\n",
    "\n",
    "\n",
    "# is the first letter starting with \"capital letter \" or not hence it fails the condition so out put is empty list"
   ]
  },
  {
   "cell_type": "code",
   "execution_count": 38,
   "id": "a0f539ae",
   "metadata": {},
   "outputs": [
    {
     "data": {
      "text/plain": [
       "['id']"
      ]
     },
     "execution_count": 38,
     "metadata": {},
     "output_type": "execute_result"
    }
   ],
   "source": [
    "var1 = \"idwjdbks __ lo__ve bi_r_123ya78ni 7377392in \\n123 street __\"\n",
    "\n",
    "re.findall(\"^[a-z][a-z]\",var1)\n",
    "\n",
    "\n",
    "#starting 2 letters are they strting with \"small letter\" or not "
   ]
  },
  {
   "cell_type": "code",
   "execution_count": 43,
   "id": "0943ff53",
   "metadata": {},
   "outputs": [
    {
     "data": {
      "text/plain": [
       "[]"
      ]
     },
     "execution_count": 43,
     "metadata": {},
     "output_type": "execute_result"
    }
   ],
   "source": [
    "var1 = \"idwjdbks __ lo__ve gH bi_r_123ya78ni 7377392in \\n123 street __\"\n",
    "\n",
    "re.findall(\"\\A[a-z][A-Z]\",var1)\n",
    "\n",
    "#frst letter should start with small and second letter should be capital"
   ]
  },
  {
   "cell_type": "code",
   "execution_count": 29,
   "id": "2d46de94",
   "metadata": {},
   "outputs": [
    {
     "data": {
      "text/plain": [
       "['ha']"
      ]
     },
     "execution_count": 29,
     "metadata": {},
     "output_type": "execute_result"
    }
   ],
   "source": [
    "a = \"hari @ hn344 jk\"\n",
    "\n",
    "re.findall(\"^[a-z][a-z]\",a)"
   ]
  },
  {
   "cell_type": "code",
   "execution_count": 59,
   "id": "9ecdc4d3",
   "metadata": {},
   "outputs": [
    {
     "data": {
      "text/plain": [
       "['@@@']"
      ]
     },
     "execution_count": 59,
     "metadata": {},
     "output_type": "execute_result"
    }
   ],
   "source": [
    "## complex exsmple\n",
    "\n",
    "d = \"jfdawefjnewjnf#@@@\"\n",
    "\n",
    "re.findall(\"\\W\\W\\W$\",d)"
   ]
  },
  {
   "cell_type": "code",
   "execution_count": 67,
   "id": "1dd5731b",
   "metadata": {},
   "outputs": [
    {
     "data": {
      "text/plain": [
       "['@1 j\\n']"
      ]
     },
     "execution_count": 67,
     "metadata": {},
     "output_type": "execute_result"
    }
   ],
   "source": [
    "## complex\n",
    "\n",
    "e = \"@1 j\\nhdnkqnfknekfnk\"\n",
    "\n",
    "re.findall(\"^\\W\\d\\s\\w\\s\",e)"
   ]
  },
  {
   "cell_type": "markdown",
   "id": "1e50eb83",
   "metadata": {},
   "source": [
    "#### to check ending letter use `\\Z` or `$`"
   ]
  },
  {
   "cell_type": "code",
   "execution_count": 30,
   "id": "ffe31f08",
   "metadata": {},
   "outputs": [
    {
     "data": {
      "text/plain": [
       "['aA']"
      ]
     },
     "execution_count": 30,
     "metadata": {},
     "output_type": "execute_result"
    }
   ],
   "source": [
    "var1 = \"idwjdbks __ lo__ve gH bi_r_123ya78ni 7377392in \\n123aL street __aA\"\n",
    "\n",
    "re.findall(\"[a-z][A-Z]\\Z\",var1)\n",
    "\n",
    "# ending frst letter is small last letter is capital "
   ]
  },
  {
   "cell_type": "code",
   "execution_count": 54,
   "id": "63800af3",
   "metadata": {},
   "outputs": [
    {
     "data": {
      "text/plain": [
       "['aA']"
      ]
     },
     "execution_count": 54,
     "metadata": {},
     "output_type": "execute_result"
    }
   ],
   "source": [
    "var1 = \"idwjdbks __ lo__ve gH bi_r_123ya78ni 7377392in \\n123 street __aA\"\n",
    "\n",
    "re.findall(\"[a-z][A-Z]$\",var1)\n"
   ]
  },
  {
   "cell_type": "markdown",
   "id": "0d8f639b",
   "metadata": {},
   "source": [
    "#### `\\b` starting boundary can be anything it works only when u give `r` string alnumeric and _"
   ]
  },
  {
   "cell_type": "code",
   "execution_count": 69,
   "id": "9ed10362",
   "metadata": {},
   "outputs": [
    {
     "data": {
      "text/plain": [
       "['ii', 'ii', 'ii', 'ii', 'ii']"
      ]
     },
     "execution_count": 69,
     "metadata": {},
     "output_type": "execute_result"
    }
   ],
   "source": [
    "var1 = \"ii b ii ii ii ghii \"\n",
    "re.findall(\"[i][i]\",var1)\n",
    "\n",
    "# here in each word either strting middle i "
   ]
  },
  {
   "cell_type": "code",
   "execution_count": 70,
   "id": "8e107eb7",
   "metadata": {},
   "outputs": [
    {
     "data": {
      "text/plain": [
       "['ii', 'ii', 'ii', 'ii']"
      ]
     },
     "execution_count": 70,
     "metadata": {},
     "output_type": "execute_result"
    }
   ],
   "source": [
    "var1 = \"ii b ii ii ii \"\n",
    "re.findall(r\"\\bii\",var1)\n",
    "\n",
    "# It matches only starting with \"ii\""
   ]
  },
  {
   "cell_type": "code",
   "execution_count": 63,
   "id": "72e73986",
   "metadata": {},
   "outputs": [
    {
     "data": {
      "text/plain": [
       "[' ', ' ', ' ', ' ', ' ', ' ', '\\n', ' ', ' ']"
      ]
     },
     "execution_count": 63,
     "metadata": {},
     "output_type": "execute_result"
    }
   ],
   "source": [
    "var1 = \" i __ lo__ve bi_r_123ya78ni 7377392in \\n123 street __\"\n",
    "\n",
    "re.findall(\"\\W\",var1)\n"
   ]
  },
  {
   "cell_type": "code",
   "execution_count": null,
   "id": "513de32b",
   "metadata": {},
   "outputs": [],
   "source": [
    "# Anchors \n",
    "\n",
    "* \\b checks the starting of every word when it is given starting.\n",
    "* \\b if it gives last it checks words from last  either it ends with characters and 0-9,_"
   ]
  },
  {
   "cell_type": "code",
   "execution_count": 34,
   "id": "57aab032",
   "metadata": {},
   "outputs": [
    {
     "data": {
      "text/plain": [
       "[]"
      ]
     },
     "execution_count": 34,
     "metadata": {},
     "output_type": "execute_result"
    }
   ],
   "source": [
    "var1 = \"@hdjkkkl\"\n",
    "\n",
    "re.findall(r\"\\b[a-zA-Z][a-zA-Z][a-zA-Z][a-zA-Z]\\b\",var1)\n",
    "\n",
    "# startign and ending with thses 4 lettsers or not"
   ]
  },
  {
   "cell_type": "code",
   "execution_count": 15,
   "id": "aa996427",
   "metadata": {},
   "outputs": [
    {
     "data": {
      "text/plain": [
       "['jwdk']"
      ]
     },
     "execution_count": 15,
     "metadata": {},
     "output_type": "execute_result"
    }
   ],
   "source": [
    "var1 = \"@hdjwdk\"\n",
    "\n",
    "re.findall(r\"[a-zA-Z][a-zA-Z][a-zA-Z][a-zA-Z]\\b\",var1)\n",
    "\n",
    "\n",
    "# Hence they ends with characters so outpt is displayed"
   ]
  },
  {
   "cell_type": "code",
   "execution_count": 18,
   "id": "e78fed0d",
   "metadata": {},
   "outputs": [
    {
     "data": {
      "text/plain": [
       "['har', 'man', 'mun', 'twk', 'sqj', 'qkn', 'anm']"
      ]
     },
     "execution_count": 18,
     "metadata": {},
     "output_type": "execute_result"
    }
   ],
   "source": [
    "var2 = \"@hari @manoj @munnu twkdsqk sqjsqn qknskqdnkd anmla\"\n",
    "\n",
    "re.findall(r\"\\b[a-z][a-z][a-z]\",var2)\n",
    "\n",
    "# here we use function \"\\b\"\n",
    "# It dont do anything with special chacaters ut skips them from next character it calculates"
   ]
  },
  {
   "cell_type": "code",
   "execution_count": 34,
   "id": "d79c935c",
   "metadata": {},
   "outputs": [
    {
     "data": {
      "text/plain": [
       "['ah', 'ds', 'id', 'ud', 'iq', 'id', 'aa']"
      ]
     },
     "execution_count": 34,
     "metadata": {},
     "output_type": "execute_result"
    }
   ],
   "source": [
    " var1 = \"ahdsid udiqid aaa\"\n",
    "re.findall(\"[a-z][a-z]\",var1)\n",
    "\n",
    "# It is normal static not using any function"
   ]
  },
  {
   "cell_type": "code",
   "execution_count": 16,
   "id": "e05ea6af",
   "metadata": {},
   "outputs": [
    {
     "data": {
      "text/plain": [
       "['abc', 'hah']"
      ]
     },
     "execution_count": 16,
     "metadata": {},
     "output_type": "execute_result"
    }
   ],
   "source": [
    "s = \"abcd@#hahddid\"\n",
    "\n",
    "re.findall(r\"\\b[a-z][a-z][a-z]\",s)"
   ]
  },
  {
   "cell_type": "code",
   "execution_count": 31,
   "id": "48f6306c",
   "metadata": {},
   "outputs": [
    {
     "data": {
      "text/plain": [
       "['', '', '', '', '', '', '', '', '', '', '', '', '', '', '', '', '']"
      ]
     },
     "execution_count": 31,
     "metadata": {},
     "output_type": "execute_result"
    }
   ],
   "source": [
    "d = \"@@hari #hari \\nhari  hari\"\n",
    "\n",
    "re.findall(r\"\\B\",d)\n"
   ]
  },
  {
   "cell_type": "code",
   "execution_count": 37,
   "id": "d90ec4c6",
   "metadata": {},
   "outputs": [
    {
     "data": {
      "text/plain": [
       "['%', '%']"
      ]
     },
     "execution_count": 37,
     "metadata": {},
     "output_type": "execute_result"
    }
   ],
   "source": [
    "a = \"sndkn@@@%%***\"\n",
    "\n",
    "re.findall(r\"\\B%\",a)"
   ]
  },
  {
   "cell_type": "code",
   "execution_count": 38,
   "id": "10e0684a",
   "metadata": {},
   "outputs": [
    {
     "data": {
      "text/plain": [
       "['@', '@', '%', '%', '*', '*', '*']"
      ]
     },
     "execution_count": 38,
     "metadata": {},
     "output_type": "execute_result"
    }
   ],
   "source": [
    "a = \"sndkn@@@%%***\"\n",
    "\n",
    "re.findall(r\"\\B[%@*]\",a)"
   ]
  },
  {
   "cell_type": "code",
   "execution_count": 40,
   "id": "7ee12eb9",
   "metadata": {},
   "outputs": [
    {
     "data": {
      "text/plain": [
       "['_', '_', '_', '_']"
      ]
     },
     "execution_count": 40,
     "metadata": {},
     "output_type": "execute_result"
    }
   ],
   "source": [
    "# imp\n",
    "\n",
    "d = \"hdjd#@#jd____dfd@#\"\n",
    "\n",
    "re.findall(r\"_\\B\",d)\n"
   ]
  },
  {
   "cell_type": "markdown",
   "id": "ce06a23c",
   "metadata": {},
   "source": [
    "# 2nd Day "
   ]
  },
  {
   "cell_type": "code",
   "execution_count": 42,
   "id": "052c19e0",
   "metadata": {},
   "outputs": [
    {
     "data": {
      "text/plain": [
       "['aaaaa', '', 'aa', '', 'aaa', '', '', '', '', '']"
      ]
     },
     "execution_count": 42,
     "metadata": {},
     "output_type": "execute_result"
    }
   ],
   "source": [
    "d = \"aaaaa aa aaa bbb\"\n",
    "\n",
    "re.findall(\"a*\",d)\n",
    "\n",
    "# matching when a is presernt if not found return space \n",
    "# adding space at end because of newline default created in creating string"
   ]
  },
  {
   "cell_type": "code",
   "execution_count": 48,
   "id": "bdf2df81",
   "metadata": {},
   "outputs": [
    {
     "data": {
      "text/plain": [
       "['baab', 'baab', 'baaaab', 'bb']"
      ]
     },
     "execution_count": 48,
     "metadata": {},
     "output_type": "execute_result"
    }
   ],
   "source": [
    "e = \"baab baab baaaabaaaaab bb\"\n",
    "\n",
    "re.findall(\"ba*b\",e)\n",
    "\n",
    "#compare them"
   ]
  },
  {
   "cell_type": "code",
   "execution_count": 47,
   "id": "38dff70e",
   "metadata": {},
   "outputs": [
    {
     "data": {
      "text/plain": [
       "['baab', 'baab', 'baaaab', 'baaaaab', 'baaaaab', 'bb']"
      ]
     },
     "execution_count": 47,
     "metadata": {},
     "output_type": "execute_result"
    }
   ],
   "source": [
    "e = \"baab baab baaaabbaaaaabbaaaaab bb\"\n",
    "\n",
    "re.findall(\"ba*b\",e)\n"
   ]
  },
  {
   "cell_type": "code",
   "execution_count": 6,
   "id": "d9daf669",
   "metadata": {},
   "outputs": [
    {
     "data": {
      "text/plain": [
       "['l']"
      ]
     },
     "execution_count": 6,
     "metadata": {},
     "output_type": "execute_result"
    }
   ],
   "source": [
    "a = \"i love innomatlics \"\n",
    "\n",
    "re.findall(r\"\\bl\",a)\n",
    "\n",
    "# Here i am only getting a word which starts with \"l\"\n",
    "# but when we take innomatlics in this word also \"l\"\n",
    "# l is not present in starting so it dont return that word"
   ]
  },
  {
   "cell_type": "code",
   "execution_count": 32,
   "id": "7b449ccf",
   "metadata": {},
   "outputs": [
    {
     "data": {
      "text/plain": [
       "['a',\n",
       " '',\n",
       " '',\n",
       " '',\n",
       " '',\n",
       " '',\n",
       " 'aa',\n",
       " '',\n",
       " '',\n",
       " '',\n",
       " '',\n",
       " '',\n",
       " 'aaaa',\n",
       " '',\n",
       " 'aaaaa',\n",
       " '',\n",
       " '',\n",
       " '',\n",
       " '',\n",
       " '',\n",
       " 'aaaaaaa',\n",
       " '']"
      ]
     },
     "execution_count": 32,
     "metadata": {},
     "output_type": "execute_result"
    }
   ],
   "source": [
    "var1 = \"a b b aa bbb aaaa aaaaa h b aaaaaaa\"\n",
    "\n",
    "re.findall(\"a*\",var1)\n",
    "\n",
    "# here it checks each word including space if space is there it gives space \n",
    "# if given char is not there it gives space in place of it"
   ]
  },
  {
   "cell_type": "code",
   "execution_count": 11,
   "id": "73852852",
   "metadata": {},
   "outputs": [
    {
     "data": {
      "text/plain": [
       "['aaaaa', 'a', 'a', 'a']"
      ]
     },
     "execution_count": 11,
     "metadata": {},
     "output_type": "execute_result"
    }
   ],
   "source": [
    "d = \"aaaaa an@@@na bc abd\"\n",
    "\n",
    "re.findall(\"aa*\",d)"
   ]
  },
  {
   "cell_type": "code",
   "execution_count": 35,
   "id": "299de597",
   "metadata": {},
   "outputs": [
    {
     "data": {
      "text/plain": [
       "['baa', 'baa', 'b', 'b', 'baaaa']"
      ]
     },
     "execution_count": 35,
     "metadata": {},
     "output_type": "execute_result"
    }
   ],
   "source": [
    "var1 = \"baa baa bb baaaa\"\n",
    "\n",
    "re.findall(\"ba*\",var1)\n",
    "\n",
    "# it matches each word having b and sucessing atleast zero \"a\""
   ]
  },
  {
   "cell_type": "code",
   "execution_count": 36,
   "id": "e89980c8",
   "metadata": {},
   "outputs": [
    {
     "data": {
      "text/plain": [
       "['baaab', 'baab', 'bab', 'baaaaaab']"
      ]
     },
     "execution_count": 36,
     "metadata": {},
     "output_type": "execute_result"
    }
   ],
   "source": [
    "var1 = \"baa baa baaabaaab baab bab baaaaaab\"\n",
    "\n",
    "re.findall(\"ba*b\",var1)  # here it should start with b,ends with b inbetween atleast zero \"a's\"\n",
    "\n"
   ]
  },
  {
   "cell_type": "code",
   "execution_count": 40,
   "id": "58027c53",
   "metadata": {},
   "outputs": [
    {
     "data": {
      "text/plain": [
       "['baab', 'bab']"
      ]
     },
     "execution_count": 40,
     "metadata": {},
     "output_type": "execute_result"
    }
   ],
   "source": [
    "var1 = \"baab baa baaa@baa@ab ba@ab bab b@aaaaaab\"\n",
    "\n",
    "re.findall(\"ba*b\",var1)\n",
    "\n",
    "# n it dont give the words which are having special characters and satisfying the conditioons"
   ]
  },
  {
   "cell_type": "code",
   "execution_count": 46,
   "id": "3af6e044",
   "metadata": {},
   "outputs": [
    {
     "data": {
      "text/plain": [
       "['aa']"
      ]
     },
     "execution_count": 46,
     "metadata": {},
     "output_type": "execute_result"
    }
   ],
   "source": [
    "var = \"aad ahidnd jknwqkn b a \"\n",
    "\n",
    "re.findall(\"ab*a\",var)"
   ]
  },
  {
   "cell_type": "code",
   "execution_count": 50,
   "id": "5191fecb",
   "metadata": {},
   "outputs": [
    {
     "data": {
      "text/plain": [
       "['aa', 'a', 'a']"
      ]
     },
     "execution_count": 50,
     "metadata": {},
     "output_type": "execute_result"
    }
   ],
   "source": [
    "var = \"aad ahidnd jknwqkn b a \"\n",
    "\n",
    "re.findall(\"ab*a?\",var)\n",
    "\n",
    "# it starts with a ends with a and only 0 bs to infinate b's"
   ]
  },
  {
   "cell_type": "code",
   "execution_count": 49,
   "id": "c3af1ac0",
   "metadata": {},
   "outputs": [
    {
     "data": {
      "text/plain": [
       "['aaaaaaaaaaaaaaaaaaaa', '']"
      ]
     },
     "execution_count": 49,
     "metadata": {},
     "output_type": "execute_result"
    }
   ],
   "source": [
    "var = \"aaaaaaaaaaaaaaaaaaaa\"\n",
    "\n",
    "re.findall(\"a*\",var)"
   ]
  },
  {
   "cell_type": "markdown",
   "id": "e07be1b5",
   "metadata": {},
   "source": [
    "#### Here our quantifier calculates 0 a's and 1 a's and 2 a's upto infintity a's but here nxt line is invisible so it ives empty string after that "
   ]
  },
  {
   "cell_type": "markdown",
   "id": "1d0a7ec1",
   "metadata": {},
   "source": [
    "- Second Quantifier \"+\""
   ]
  },
  {
   "cell_type": "code",
   "execution_count": 52,
   "id": "b8bf19d4",
   "metadata": {},
   "outputs": [
    {
     "data": {
      "text/plain": [
       "['baaaaaaaa']"
      ]
     },
     "execution_count": 52,
     "metadata": {},
     "output_type": "execute_result"
    }
   ],
   "source": [
    "var = \"baaaaaaaa b\"\n",
    "\n",
    "re.findall(\"ba+\",var)"
   ]
  },
  {
   "cell_type": "code",
   "execution_count": 53,
   "id": "ec633bd0",
   "metadata": {},
   "outputs": [
    {
     "data": {
      "text/plain": [
       "['baaaaaaaa', 'b']"
      ]
     },
     "execution_count": 53,
     "metadata": {},
     "output_type": "execute_result"
    }
   ],
   "source": [
    "var = \"baaaaaaaa b\"\n",
    "\n",
    "re.findall(\"ba*\",var)"
   ]
  },
  {
   "cell_type": "code",
   "execution_count": 54,
   "id": "1a1e04c7",
   "metadata": {},
   "outputs": [
    {
     "data": {
      "text/plain": [
       "['ba']"
      ]
     },
     "execution_count": 54,
     "metadata": {},
     "output_type": "execute_result"
    }
   ],
   "source": [
    "var = \"baaaaaaaa b\"\n",
    "\n",
    "re.findall(\"ba+?\",var)\n",
    "\n",
    "# Non greedy version"
   ]
  },
  {
   "cell_type": "code",
   "execution_count": 1,
   "id": "96be031f",
   "metadata": {},
   "outputs": [
    {
     "data": {
      "text/plain": [
       "['baa', 'baa', 'baa', 'ba']"
      ]
     },
     "execution_count": 1,
     "metadata": {},
     "output_type": "execute_result"
    }
   ],
   "source": [
    "import re\n",
    "\n",
    "a = \"baa baa baab bab bb\"\n",
    "\n",
    "re.findall(\"ba+\",a)"
   ]
  },
  {
   "cell_type": "code",
   "execution_count": 2,
   "id": "0044e926",
   "metadata": {},
   "outputs": [
    {
     "data": {
      "text/plain": [
       "['baa', 'baa', 'baa', 'b', 'ba', 'b', 'b', 'b']"
      ]
     },
     "execution_count": 2,
     "metadata": {},
     "output_type": "execute_result"
    }
   ],
   "source": [
    "a = \"baa baa baab bab bb\"\n",
    "\n",
    "re.findall(\"ba*\",a)"
   ]
  },
  {
   "cell_type": "code",
   "execution_count": 3,
   "id": "95498f6b",
   "metadata": {},
   "outputs": [
    {
     "data": {
      "text/plain": [
       "['ba', 'ba', 'ba', 'ba']"
      ]
     },
     "execution_count": 3,
     "metadata": {},
     "output_type": "execute_result"
    }
   ],
   "source": [
    "a = \"baa baa baab bab bb\"\n",
    "\n",
    "re.findall(\"ba+?\",a)"
   ]
  },
  {
   "cell_type": "code",
   "execution_count": 6,
   "id": "46689e3c",
   "metadata": {},
   "outputs": [
    {
     "data": {
      "text/plain": [
       "['b', 'b', 'b', 'b', 'b', 'b', 'b', 'b']"
      ]
     },
     "execution_count": 6,
     "metadata": {},
     "output_type": "execute_result"
    }
   ],
   "source": [
    "a = \"baa baa baab bab bb\"\n",
    "\n",
    "re.findall(\"ba*?\",a)\n",
    "\n",
    "# It matches starting \"b\" and 0 a's as \"?\" is used "
   ]
  },
  {
   "cell_type": "code",
   "execution_count": 55,
   "id": "e29e7767",
   "metadata": {},
   "outputs": [
    {
     "data": {
      "text/plain": [
       "['b', 'b']"
      ]
     },
     "execution_count": 55,
     "metadata": {},
     "output_type": "execute_result"
    }
   ],
   "source": [
    "var = \"baaaaaaaa b\"\n",
    "\n",
    "re.findall(\"ba*?\",var)"
   ]
  },
  {
   "cell_type": "code",
   "execution_count": 58,
   "id": "0aab1a03",
   "metadata": {},
   "outputs": [
    {
     "data": {
      "text/plain": [
       "['abc', '', '']"
      ]
     },
     "execution_count": 58,
     "metadata": {},
     "output_type": "execute_result"
    }
   ],
   "source": [
    "var1 = \"abc \"\n",
    "\n",
    "re.findall(\"[a-z]*\",var1)"
   ]
  },
  {
   "cell_type": "code",
   "execution_count": 60,
   "id": "49719822",
   "metadata": {},
   "outputs": [
    {
     "data": {
      "text/plain": [
       "['a', 'b', 'c', 'b', 'c', 'bCAS']"
      ]
     },
     "execution_count": 60,
     "metadata": {},
     "output_type": "execute_result"
    }
   ],
   "source": [
    "var1 = \"abc Abc bCAS\"\n",
    "\n",
    "re.findall(\"[a-z][A-Z]*\",var1)"
   ]
  },
  {
   "cell_type": "code",
   "execution_count": 61,
   "id": "6290f17a",
   "metadata": {},
   "outputs": [
    {
     "data": {
      "text/plain": [
       "['bCAS']"
      ]
     },
     "execution_count": 61,
     "metadata": {},
     "output_type": "execute_result"
    }
   ],
   "source": [
    "var1 = \"abc Abc bCAS\"\n",
    "\n",
    "re.findall(\"[a-z][A-Z]+\",var1)"
   ]
  },
  {
   "cell_type": "code",
   "execution_count": 7,
   "id": "9996bdb8",
   "metadata": {},
   "outputs": [
    {
     "data": {
      "text/plain": [
       "['a', 'b', 'c', 'b', 'c', 'b', 'c']"
      ]
     },
     "execution_count": 7,
     "metadata": {},
     "output_type": "execute_result"
    }
   ],
   "source": [
    "var1 = \"abc Abc bcAS\"\n",
    "\n",
    "re.findall(\"[a-z][A-Z]*?\",var1)"
   ]
  },
  {
   "cell_type": "code",
   "execution_count": 8,
   "id": "376c52c2",
   "metadata": {},
   "outputs": [
    {
     "data": {
      "text/plain": [
       "['bC']"
      ]
     },
     "execution_count": 8,
     "metadata": {},
     "output_type": "execute_result"
    }
   ],
   "source": [
    "var1 = \"abc Abc bCAS\"\n",
    "\n",
    "re.findall(\"[a-z][A-Z]+?\",var1)"
   ]
  },
  {
   "cell_type": "code",
   "execution_count": 11,
   "id": "34bd2af2",
   "metadata": {},
   "outputs": [
    {
     "data": {
      "text/plain": [
       "[]"
      ]
     },
     "execution_count": 11,
     "metadata": {},
     "output_type": "execute_result"
    }
   ],
   "source": [
    "var1 = \"abc\"\n",
    "\n",
    "re.findall(\"[A-Z]\",var1)\n",
    "\n",
    "#when we put \"[A-Z]\" here it matches spaces as there is no char with uppercase\n",
    "#so it gives 3 spaces for \"abc\" "
   ]
  },
  {
   "cell_type": "code",
   "execution_count": 12,
   "id": "0f40afc9",
   "metadata": {},
   "outputs": [
    {
     "data": {
      "text/plain": [
       "['', '', '', '']"
      ]
     },
     "execution_count": 12,
     "metadata": {},
     "output_type": "execute_result"
    }
   ],
   "source": [
    "var1 = \"abc\"\n",
    "\n",
    "re.findall(\"[A-Z]?\",var1)\n",
    "\n",
    "# It only matches spaces as it accepts only spaces when there is no charatcters accepts atleast spaces"
   ]
  },
  {
   "cell_type": "code",
   "execution_count": 3,
   "id": "c4c68bf6",
   "metadata": {},
   "outputs": [
    {
     "data": {
      "text/plain": [
       "['a', 'b', 'c', '']"
      ]
     },
     "execution_count": 3,
     "metadata": {},
     "output_type": "execute_result"
    }
   ],
   "source": [
    "var1 = \"abc\"\n",
    "\n",
    "re.findall(\"[a-z]?\",var1)"
   ]
  },
  {
   "cell_type": "code",
   "execution_count": 8,
   "id": "feaea8ae",
   "metadata": {},
   "outputs": [
    {
     "data": {
      "text/plain": [
       "['', 'a', '', 'b', '', 'c', '']"
      ]
     },
     "execution_count": 8,
     "metadata": {},
     "output_type": "execute_result"
    }
   ],
   "source": [
    "var1 = \"abc\"\n",
    "\n",
    "re.findall(\"[a-z]??\",var1) \n",
    "\n"
   ]
  },
  {
   "cell_type": "code",
   "execution_count": 35,
   "id": "ebb698e0",
   "metadata": {},
   "outputs": [
    {
     "data": {
      "text/plain": [
       "['a', 'b', 'c']"
      ]
     },
     "execution_count": 35,
     "metadata": {},
     "output_type": "execute_result"
    }
   ],
   "source": [
    "var1 = \"abc\"\n",
    "\n",
    "re.findall(\"[a-z][a-z]??\",var1) \n",
    "\n",
    "# here frst char should print and second char should match zero times"
   ]
  },
  {
   "cell_type": "code",
   "execution_count": 36,
   "id": "99a9f376",
   "metadata": {},
   "outputs": [
    {
     "data": {
      "text/plain": [
       "['ab']"
      ]
     },
     "execution_count": 36,
     "metadata": {},
     "output_type": "execute_result"
    }
   ],
   "source": [
    "var1 = \"abc\"\n",
    "\n",
    "re.findall(\"[a-z][a-z][a-z]??\",var1) "
   ]
  },
  {
   "cell_type": "code",
   "execution_count": null,
   "id": "005e6572",
   "metadata": {},
   "outputs": [],
   "source": []
  },
  {
   "cell_type": "code",
   "execution_count": 20,
   "id": "ae4f3c5c",
   "metadata": {},
   "outputs": [
    {
     "data": {
      "text/plain": [
       "['bC']"
      ]
     },
     "execution_count": 20,
     "metadata": {},
     "output_type": "execute_result"
    }
   ],
   "source": [
    "var1 = \"bCAS\"\n",
    "\n",
    "re.findall(\"[a-z][A-Z]?\",var1)"
   ]
  },
  {
   "cell_type": "code",
   "execution_count": 68,
   "id": "44aaf456",
   "metadata": {},
   "outputs": [
    {
     "data": {
      "text/plain": [
       "['b']"
      ]
     },
     "execution_count": 68,
     "metadata": {},
     "output_type": "execute_result"
    }
   ],
   "source": [
    "var1 = \"bCAS\"\n",
    "\n",
    "re.findall(\"[a-z][A-Z]??\",var1)"
   ]
  },
  {
   "cell_type": "markdown",
   "id": "b1302bd5",
   "metadata": {},
   "source": [
    "- Day 3 **REG-EX**"
   ]
  },
  {
   "cell_type": "code",
   "execution_count": 6,
   "id": "86a1f8fd",
   "metadata": {},
   "outputs": [
    {
     "data": {
      "text/plain": [
       "['<b>']"
      ]
     },
     "execution_count": 6,
     "metadata": {},
     "output_type": "execute_result"
    }
   ],
   "source": [
    "a = \"<hari> jdbnkd <b> dwhjd </ha>\"\n",
    "\n",
    "re.findall(\"<.>\",a)"
   ]
  },
  {
   "cell_type": "code",
   "execution_count": 7,
   "id": "8addeb2e",
   "metadata": {},
   "outputs": [
    {
     "data": {
      "text/plain": [
       "['<hari> jdbnkd <b> dwhjd </ha>']"
      ]
     },
     "execution_count": 7,
     "metadata": {},
     "output_type": "execute_result"
    }
   ],
   "source": [
    "a = \"<hari> jdbnkd <b> dwhjd </ha>\"\n",
    "\n",
    "re.findall(\"<.*>\",a)"
   ]
  },
  {
   "cell_type": "code",
   "execution_count": 8,
   "id": "0edb3225",
   "metadata": {},
   "outputs": [
    {
     "data": {
      "text/plain": [
       "['<hari>', '<b>', '</ha>']"
      ]
     },
     "execution_count": 8,
     "metadata": {},
     "output_type": "execute_result"
    }
   ],
   "source": [
    "a = \"<hari> jdbnkd <b> dwhjd </ha>\"\n",
    "\n",
    "re.findall(\"<.*?>\",a)"
   ]
  },
  {
   "cell_type": "code",
   "execution_count": 1,
   "id": "017457ec",
   "metadata": {},
   "outputs": [],
   "source": [
    "import re"
   ]
  },
  {
   "cell_type": "code",
   "execution_count": 5,
   "id": "f7eb74ea",
   "metadata": {},
   "outputs": [
    {
     "data": {
      "text/plain": [
       "['@h', '@m', '@v', '@c']"
      ]
     },
     "execution_count": 5,
     "metadata": {},
     "output_type": "execute_result"
    }
   ],
   "source": [
    "insta = \"@hari @munnu @varshi @chintu #innomatics #ecc #hcu #pcu\"\n",
    "\n",
    "re.findall(\"\\B@[a-zA-Z0-9]\",insta)\n",
    "\n",
    "\n",
    "# without using \"*\" it returns only one character"
   ]
  },
  {
   "cell_type": "code",
   "execution_count": 8,
   "id": "e0d12aa0",
   "metadata": {},
   "outputs": [
    {
     "data": {
      "text/plain": [
       "['@hari', '@munnu', '@varshi', '@chintu']"
      ]
     },
     "execution_count": 8,
     "metadata": {},
     "output_type": "execute_result"
    }
   ],
   "source": [
    "insta = \"@hari @munnu @varshi @chintu #innomatics djsafjw 344 __ \\n #ecc #hcu #pcu\"\n",
    "\n",
    "re.findall(\"\\B@[a-zA-Z0-9]*\",insta)\n",
    "\n",
    "# I am returns dragging mentions i used \"*\" for returning all characters\n"
   ]
  },
  {
   "cell_type": "code",
   "execution_count": 7,
   "id": "ac9020c7",
   "metadata": {},
   "outputs": [
    {
     "data": {
      "text/plain": [
       "['@hari',\n",
       " '@munnu',\n",
       " '@varshi',\n",
       " '@chintu',\n",
       " '#innomatics',\n",
       " '#ecc',\n",
       " '#hcu',\n",
       " '#pcu']"
      ]
     },
     "execution_count": 7,
     "metadata": {},
     "output_type": "execute_result"
    }
   ],
   "source": [
    "insta = \"@hari @munnu @varshi @chintu #innomatics hdjwhdh dwdihwid #ecc #hcu #pcu\"\n",
    "\n",
    "re.findall(\"\\B[@#][a-zA-Z0-9]*\",insta)\n",
    "\n",
    "# mentions which startw with \"@#\" it should return all names  "
   ]
  },
  {
   "cell_type": "markdown",
   "id": "108704b7",
   "metadata": {},
   "source": [
    "# Important "
   ]
  },
  {
   "cell_type": "code",
   "execution_count": 25,
   "id": "ebb720f0",
   "metadata": {},
   "outputs": [
    {
     "data": {
      "text/plain": [
       "['ab a.', 'b abj', 'dj 12', ' 34 #']"
      ]
     },
     "execution_count": 25,
     "metadata": {},
     "output_type": "execute_result"
    }
   ],
   "source": [
    "a = \"ab a.b abjdj 12 34 # @ \\n \\n \"\n",
    "re.findall(\".....\",a)\n",
    "\n",
    "# It dont matches new line it only matches alpha numeric and special"
   ]
  },
  {
   "cell_type": "markdown",
   "id": "a22f1873",
   "metadata": {},
   "source": [
    "# I explored New function **re.DOTALL**  where it matches every character including newline by \".\""
   ]
  },
  {
   "cell_type": "code",
   "execution_count": 23,
   "id": "131c1919",
   "metadata": {},
   "outputs": [
    {
     "data": {
      "text/plain": [
       "['ab ', 'a.b', ' ab', 'jdj', ' 12', ' 34', ' # ', '@ \\n', ' \\n ']"
      ]
     },
     "execution_count": 23,
     "metadata": {},
     "output_type": "execute_result"
    }
   ],
   "source": [
    "a = \"ab a.b abjdj 12 34 # @ \\n \\n \"\n",
    "re.findall(r\"...\",a,re.DOTALL)\n",
    "\n",
    "# in order to match \\n new lines use \"re.DOTALL\""
   ]
  },
  {
   "cell_type": "code",
   "execution_count": 3,
   "id": "5b7a1027",
   "metadata": {},
   "outputs": [
    {
     "data": {
      "text/plain": [
       "['aa', '', 'aaa', '', 'aaaaaa', '', 'aaaaa', '', 'aaaa', '', 'aaaaaa', '']"
      ]
     },
     "execution_count": 3,
     "metadata": {},
     "output_type": "execute_result"
    }
   ],
   "source": [
    "var = \"aa aaa aaaaaa aaaaa aaaa aaaaaa\"\n",
    "\n",
    "re.findall(\"a*\",var)"
   ]
  },
  {
   "cell_type": "code",
   "execution_count": 4,
   "id": "7d7f0dda",
   "metadata": {},
   "outputs": [
    {
     "data": {
      "text/plain": [
       "['',\n",
       " 'a',\n",
       " '',\n",
       " 'a',\n",
       " '',\n",
       " '',\n",
       " 'a',\n",
       " '',\n",
       " 'a',\n",
       " '',\n",
       " 'a',\n",
       " '',\n",
       " '',\n",
       " 'a',\n",
       " '',\n",
       " 'a',\n",
       " '',\n",
       " 'a',\n",
       " '',\n",
       " 'a',\n",
       " '',\n",
       " 'a',\n",
       " '',\n",
       " 'a',\n",
       " '',\n",
       " '',\n",
       " 'a',\n",
       " '',\n",
       " 'a',\n",
       " '',\n",
       " 'a',\n",
       " '',\n",
       " 'a',\n",
       " '',\n",
       " 'a',\n",
       " '',\n",
       " '',\n",
       " 'a',\n",
       " '',\n",
       " 'a',\n",
       " '',\n",
       " 'a',\n",
       " '',\n",
       " 'a',\n",
       " '',\n",
       " '',\n",
       " 'a',\n",
       " '',\n",
       " 'a',\n",
       " '',\n",
       " 'a',\n",
       " '',\n",
       " 'a',\n",
       " '',\n",
       " 'a',\n",
       " '',\n",
       " 'a',\n",
       " '']"
      ]
     },
     "execution_count": 4,
     "metadata": {},
     "output_type": "execute_result"
    }
   ],
   "source": [
    "var = \"aa aaa aaaaaa aaaaa aaaa aaaaaa\"\n",
    "\n",
    "re.findall(\"a*?\",var) # gives [0 and 1] a's"
   ]
  },
  {
   "cell_type": "code",
   "execution_count": 5,
   "id": "7e04c1b2",
   "metadata": {},
   "outputs": [
    {
     "data": {
      "text/plain": [
       "['aa', 'aaa', 'aaaaaa', 'aaaaa', 'aaaa', 'aaaaaa']"
      ]
     },
     "execution_count": 5,
     "metadata": {},
     "output_type": "execute_result"
    }
   ],
   "source": [
    "var = \"aa aaa aaaaaa aaaaa aaaa aaaaaa\"\n",
    "\n",
    "re.findall(\"a+\",var)  #it  matches [1 to infinity]"
   ]
  },
  {
   "cell_type": "markdown",
   "id": "063a2ac5",
   "metadata": {},
   "source": [
    "# User defined quantifier **{a,b}**                   [a is min b is max]"
   ]
  },
  {
   "cell_type": "code",
   "execution_count": 8,
   "id": "e07e0ce9",
   "metadata": {},
   "outputs": [
    {
     "data": {
      "text/plain": [
       "['aaaaa', 'aaaaa', 'aaaaa']"
      ]
     },
     "execution_count": 8,
     "metadata": {},
     "output_type": "execute_result"
    }
   ],
   "source": [
    "var = \"aa aaa aaaaaa aaaaa aaaa aaaaaa\"\n",
    "\n",
    "re.findall(\"a{5}\",var)\n",
    "\n",
    "#it returns min \"5\" a's\n",
    "# it considers the words which contains 6 or 7 a's it takes only 5 a's as i.e is the condition"
   ]
  },
  {
   "cell_type": "code",
   "execution_count": 9,
   "id": "41f1a081",
   "metadata": {},
   "outputs": [
    {
     "data": {
      "text/plain": [
       "['aaa', 'aaaaa', 'aaaaa', 'aaaa', 'aaaaa']"
      ]
     },
     "execution_count": 9,
     "metadata": {},
     "output_type": "execute_result"
    }
   ],
   "source": [
    "var = \"aa aaa aaaaaa aaaaa aaaa aaaaaa\"\n",
    "\n",
    "re.findall(\"a{3,5}\",var) # it returns min [3] max [5] a's"
   ]
  },
  {
   "cell_type": "code",
   "execution_count": 10,
   "id": "4ad6c9ed",
   "metadata": {},
   "outputs": [
    {
     "data": {
      "text/plain": [
       "['aa',\n",
       " '',\n",
       " 'aaa',\n",
       " '',\n",
       " 'aaaaa',\n",
       " 'a',\n",
       " '',\n",
       " 'aaaaa',\n",
       " '',\n",
       " 'aaaa',\n",
       " '',\n",
       " 'aaaaa',\n",
       " 'a',\n",
       " '']"
      ]
     },
     "execution_count": 10,
     "metadata": {},
     "output_type": "execute_result"
    }
   ],
   "source": [
    "var = \"aa aaa aaaaaa aaaaa aaaa aaaaaa\"\n",
    "\n",
    "re.findall(\"a{,5}\",var) # it returns [min 0 , max 5] a's"
   ]
  },
  {
   "cell_type": "code",
   "execution_count": 11,
   "id": "0bdc607b",
   "metadata": {},
   "outputs": [
    {
     "data": {
      "text/plain": [
       "['aaaaaa', 'aaaaa', 'aaaa', 'aaaaaa']"
      ]
     },
     "execution_count": 11,
     "metadata": {},
     "output_type": "execute_result"
    }
   ],
   "source": [
    "var = \"aa aaa aaaaaa aaaaa aaaa aaaaaa\"\n",
    "\n",
    "re.findall(\"a{4,}\",var) #it returns min 4 a's max infinity"
   ]
  },
  {
   "cell_type": "code",
   "execution_count": 19,
   "id": "bb44d589",
   "metadata": {},
   "outputs": [
    {
     "data": {
      "text/plain": [
       "['@hari', '@munnu', '@varshi', '#hcu', '#hcu', '#pcu']"
      ]
     },
     "execution_count": 19,
     "metadata": {},
     "output_type": "execute_result"
    }
   ],
   "source": [
    "var = \"@hari @munnu @varshi #hcu #hcu #pcu\"\n",
    "\n",
    "re.findall(\"\\B[@#]\\w+\",var)\n",
    "\n",
    "#we can use \"+\" or \"*\" both gives same result but when it is empty \"+\" dont takes\n",
    "#but \"*\" it takes when it is empty"
   ]
  },
  {
   "cell_type": "code",
   "execution_count": 18,
   "id": "c6cba539",
   "metadata": {},
   "outputs": [
    {
     "data": {
      "text/plain": [
       "['@hari', '@munnu', '@varshi', '#hcu', '#hcu', '#pcu']"
      ]
     },
     "execution_count": 18,
     "metadata": {},
     "output_type": "execute_result"
    }
   ],
   "source": [
    "var = \"@hari @munnu @varshi #hcu #hcu #pcu\"\n",
    "\n",
    "re.findall(\"\\B[@#][a-zA-Z0-9]*\",var)"
   ]
  },
  {
   "cell_type": "code",
   "execution_count": 13,
   "id": "fb8ac0a3",
   "metadata": {},
   "outputs": [
    {
     "data": {
      "text/plain": [
       "['aaaa',\n",
       " '____',\n",
       " 'aaaa',\n",
       " 'aaaa',\n",
       " 'bbbb',\n",
       " 'bbbb',\n",
       " 'bbbb',\n",
       " 'ssss',\n",
       " 'nnnn',\n",
       " 'ffff',\n",
       " 'jjjj',\n",
       " 'aaaa',\n",
       " 'kkkk',\n",
       " 'mmmm',\n",
       " 'aaaa']"
      ]
     },
     "execution_count": 13,
     "metadata": {},
     "output_type": "execute_result"
    }
   ],
   "source": [
    "var = \"aa aaa aaaaaa ____ aaaaa ## @ & aaaaaa bbbbbbbb bbbb ssss nnnn ffff jjjj aaaakkk kkkk nnn mmmm aaaaaa\"\n",
    "\n",
    "re.findall(\"\\w{4}\",var) # it matches the word which has 4same charcaters including \"_\""
   ]
  },
  {
   "cell_type": "code",
   "execution_count": 15,
   "id": "5d3c6ded",
   "metadata": {},
   "outputs": [
    {
     "data": {
      "text/plain": [
       "['@@@@ ', '$$$ &', '&& **', ' \\n\\n\\n\\n', '     ', '   ']"
      ]
     },
     "execution_count": 15,
     "metadata": {},
     "output_type": "execute_result"
    }
   ],
   "source": [
    "re.findall(\"\\W{2,5}\",\"@@@@ $$$ &&& ** \\n\\n\\n\\n        \")\n",
    "\n",
    "\n",
    "# It is matching special characters min 2 times maximum 5 times"
   ]
  },
  {
   "cell_type": "code",
   "execution_count": 14,
   "id": "90e532a8",
   "metadata": {},
   "outputs": [
    {
     "data": {
      "text/plain": [
       "['bat', 'bat', 'bat', 'bat']"
      ]
     },
     "execution_count": 14,
     "metadata": {},
     "output_type": "execute_result"
    }
   ],
   "source": [
    "re.findall(\"bat\",\"bat batter batsman battt\")\n",
    "\n",
    "\n",
    "# It is checking the \"bat\" is present in string where ever it is present it returns"
   ]
  },
  {
   "cell_type": "code",
   "execution_count": 23,
   "id": "10a06c87",
   "metadata": {},
   "outputs": [
    {
     "data": {
      "text/plain": [
       "['bat', 'batt', 'bat', 'battt']"
      ]
     },
     "execution_count": 23,
     "metadata": {},
     "output_type": "execute_result"
    }
   ],
   "source": [
    "re.findall(\"bat+\",\"bat batter batsman battt\")\n",
    "\n",
    "# It is checking \"ba\" and \"t\" should occur 1 time 2 time upto infinity"
   ]
  },
  {
   "cell_type": "markdown",
   "id": "402f6eb8",
   "metadata": {},
   "source": [
    "# Grouping with \"( )\""
   ]
  },
  {
   "cell_type": "code",
   "execution_count": 24,
   "id": "0cf328e0",
   "metadata": {},
   "outputs": [
    {
     "data": {
      "text/plain": [
       "['bat', 'bat', 'bat', 'bat']"
      ]
     },
     "execution_count": 24,
     "metadata": {},
     "output_type": "execute_result"
    }
   ],
   "source": [
    "re.findall(\"(bat)+\",\"bat batter batsman battt\")\n",
    "\n",
    "# now i am considering it as a group so that it is easy to read"
   ]
  },
  {
   "cell_type": "code",
   "execution_count": 22,
   "id": "60fedeef",
   "metadata": {},
   "outputs": [
    {
     "data": {
      "text/plain": [
       "['bat', 'bat', 'bat', 'bat']"
      ]
     },
     "execution_count": 22,
     "metadata": {},
     "output_type": "execute_result"
    }
   ],
   "source": [
    "re.findall(\"(bat)+\",\"bat batbat batbatbat batbatbatbat\")\n",
    "\n",
    "#it matches bat 0 or more than 1 like bat,batbat,batbatbat"
   ]
  },
  {
   "cell_type": "code",
   "execution_count": 18,
   "id": "7cacbc68",
   "metadata": {},
   "outputs": [
    {
     "data": {
      "text/plain": [
       "[]"
      ]
     },
     "execution_count": 18,
     "metadata": {},
     "output_type": "execute_result"
    }
   ],
   "source": [
    "re.findall(\"(bat)*(ball)\",\"bat batter batsman battt\") \n",
    "\n",
    " # as there is no nat ball it returned empty"
   ]
  },
  {
   "cell_type": "code",
   "execution_count": 19,
   "id": "578cf2fa",
   "metadata": {},
   "outputs": [
    {
     "data": {
      "text/plain": [
       "[('bat', 'ball'), ('', 'ball'), ('', 'ball')]"
      ]
     },
     "execution_count": 19,
     "metadata": {},
     "output_type": "execute_result"
    }
   ],
   "source": [
    "re.findall(\"(bat)*(ball)\",\"batbatball ballbat batter batsmanball battt\")"
   ]
  },
  {
   "cell_type": "code",
   "execution_count": 25,
   "id": "9af0a6d2",
   "metadata": {},
   "outputs": [],
   "source": [
    "mo = re.search(\"(bat)*(ball)\",\"batbatball ballbat batter batsmanball battt\") \n",
    "\n",
    "#i got match at this group"
   ]
  },
  {
   "cell_type": "code",
   "execution_count": 31,
   "id": "305e3229",
   "metadata": {},
   "outputs": [
    {
     "data": {
      "text/plain": [
       "('bat', 'ball')"
      ]
     },
     "execution_count": 31,
     "metadata": {},
     "output_type": "execute_result"
    }
   ],
   "source": [
    "mo.groups()"
   ]
  },
  {
   "cell_type": "code",
   "execution_count": 33,
   "id": "8029d010",
   "metadata": {},
   "outputs": [
    {
     "data": {
      "text/plain": [
       "'bat'"
      ]
     },
     "execution_count": 33,
     "metadata": {},
     "output_type": "execute_result"
    }
   ],
   "source": [
    "mo.group(1)"
   ]
  },
  {
   "cell_type": "code",
   "execution_count": 35,
   "id": "e8703579",
   "metadata": {},
   "outputs": [
    {
     "data": {
      "text/plain": [
       "'ball'"
      ]
     },
     "execution_count": 35,
     "metadata": {},
     "output_type": "execute_result"
    }
   ],
   "source": [
    "mo.group(2)"
   ]
  },
  {
   "cell_type": "code",
   "execution_count": 39,
   "id": "4946ffd4",
   "metadata": {},
   "outputs": [
    {
     "data": {
      "text/plain": [
       "<re.Match object; span=(0, 10), match='batbatball'>"
      ]
     },
     "execution_count": 39,
     "metadata": {},
     "output_type": "execute_result"
    }
   ],
   "source": [
    "mo"
   ]
  },
  {
   "cell_type": "code",
   "execution_count": null,
   "id": "4a5b8b62",
   "metadata": {},
   "outputs": [],
   "source": [
    "#?P<GROPUNAME> #NAMED GROUP\n",
    "# \"when ever we need particular groups we use this when the data is huge\""
   ]
  },
  {
   "cell_type": "code",
   "execution_count": 40,
   "id": "0a48583a",
   "metadata": {},
   "outputs": [],
   "source": [
    "mo = re.search(\"(?P<G1>bat)\",\"batbatball ballbat batter batsmanball battt\") \n"
   ]
  },
  {
   "cell_type": "code",
   "execution_count": 42,
   "id": "f82d0f07",
   "metadata": {},
   "outputs": [
    {
     "data": {
      "text/plain": [
       "'bat'"
      ]
     },
     "execution_count": 42,
     "metadata": {},
     "output_type": "execute_result"
    }
   ],
   "source": [
    "mo.group(\"G1\")"
   ]
  },
  {
   "cell_type": "code",
   "execution_count": 44,
   "id": "2d1daf19",
   "metadata": {},
   "outputs": [
    {
     "data": {
      "text/plain": [
       "'ball'"
      ]
     },
     "execution_count": 44,
     "metadata": {},
     "output_type": "execute_result"
    }
   ],
   "source": [
    "mo = re.search(\"(?P<G2>ball)\",\"batbatball ballbat batter batsmanball battt\") \n",
    "\n",
    "mo.group(\"G2\")"
   ]
  },
  {
   "cell_type": "code",
   "execution_count": 25,
   "id": "c33b444e",
   "metadata": {},
   "outputs": [],
   "source": [
    "# Flags"
   ]
  },
  {
   "cell_type": "code",
   "execution_count": 45,
   "id": "fdbcb1f5",
   "metadata": {},
   "outputs": [
    {
     "data": {
      "text/plain": [
       "['abc']"
      ]
     },
     "execution_count": 45,
     "metadata": {},
     "output_type": "execute_result"
    }
   ],
   "source": [
    "a = \"abc ABC\"\n",
    "\n",
    "re.findall(\"abc\",a)"
   ]
  },
  {
   "cell_type": "markdown",
   "id": "14bf3b2d",
   "metadata": {},
   "source": [
    "- Flags = **re.IGNORECASE**"
   ]
  },
  {
   "cell_type": "code",
   "execution_count": 49,
   "id": "e075abbc",
   "metadata": {},
   "outputs": [
    {
     "data": {
      "text/plain": [
       "['abc', 'ABC']"
      ]
     },
     "execution_count": 49,
     "metadata": {},
     "output_type": "execute_result"
    }
   ],
   "source": [
    "a = \"abc ABC\"\n",
    "\n",
    "re.findall(\"abc\",a,flags=re.IGNORECASE)\n",
    "\n",
    "#Here both are same \"abc\" and \"ABC\" but regex is case sensitive it dont return upper case\n",
    "# To accept both cases we use flags=re.IGNORECASE   "
   ]
  },
  {
   "cell_type": "code",
   "execution_count": 28,
   "id": "18720a5f",
   "metadata": {},
   "outputs": [
    {
     "data": {
      "text/plain": [
       "['datascience']"
      ]
     },
     "execution_count": 28,
     "metadata": {},
     "output_type": "execute_result"
    }
   ],
   "source": [
    "x = \"datascience DATASCIENCE\"\n",
    "\n",
    "re.findall(\"datascience\",x)"
   ]
  },
  {
   "cell_type": "code",
   "execution_count": 30,
   "id": "c9f3a749",
   "metadata": {},
   "outputs": [
    {
     "data": {
      "text/plain": [
       "['datascience', 'DATASCIENCE']"
      ]
     },
     "execution_count": 30,
     "metadata": {},
     "output_type": "execute_result"
    }
   ],
   "source": [
    "x = \"datascience DATASCIENCE\"\n",
    "\n",
    "re.findall(\"datascience\",x,flags=re.IGNORECASE) #When we use parametre flags it ignores \"case\""
   ]
  },
  {
   "cell_type": "code",
   "execution_count": 32,
   "id": "c6aaf047",
   "metadata": {},
   "outputs": [
    {
     "data": {
      "text/plain": [
       "['hari',\n",
       " 'HARI',\n",
       " 'DATA',\n",
       " 'data',\n",
       " 'scie',\n",
       " 'SCIE',\n",
       " 'ANIM',\n",
       " 'ATIO',\n",
       " 'anim',\n",
       " 'atio']"
      ]
     },
     "execution_count": 32,
     "metadata": {},
     "output_type": "execute_result"
    }
   ],
   "source": [
    "x = \"hari HARI DATA data science SCIENCE ANIMATION animation\"\n",
    "\n",
    "re.findall(\"[a-z][a-z][a-z][a-z]\",x,flags=re.IGNORECASE)"
   ]
  },
  {
   "cell_type": "code",
   "execution_count": 35,
   "id": "ac581608",
   "metadata": {},
   "outputs": [
    {
     "data": {
      "text/plain": [
       "['biryani']"
      ]
     },
     "execution_count": 35,
     "metadata": {},
     "output_type": "execute_result"
    }
   ],
   "source": [
    "x=\"biryani\\nbiryani\"\n",
    "\n",
    "re.findall(\"^biryani\",x) \n",
    "\n",
    "#^ is used for startswith"
   ]
  },
  {
   "cell_type": "code",
   "execution_count": 42,
   "id": "266d2aee",
   "metadata": {},
   "outputs": [
    {
     "data": {
      "text/plain": [
       "['biryani', 'biryani', 'biryani', 'biryani', 'biryani']"
      ]
     },
     "execution_count": 42,
     "metadata": {},
     "output_type": "execute_result"
    }
   ],
   "source": [
    "x=\"biryani\\nbiryani\\nbiryani abiryani cbiryani\"\n",
    "\n",
    "re.findall(\"biryani\",x)"
   ]
  },
  {
   "cell_type": "code",
   "execution_count": 43,
   "id": "11909a10",
   "metadata": {},
   "outputs": [
    {
     "data": {
      "text/plain": [
       "['biryani']"
      ]
     },
     "execution_count": 43,
     "metadata": {},
     "output_type": "execute_result"
    }
   ],
   "source": [
    "x=\"biryani\\nbiryani\\nbiryani abiryani cbiryani\"\n",
    "\n",
    "re.findall(\"^biryani\",x)\n",
    "\n",
    "# It is not matching biryani which is in second line "
   ]
  },
  {
   "cell_type": "markdown",
   "id": "31c769c4",
   "metadata": {},
   "source": [
    "- Flags = **re.MULTILINE**"
   ]
  },
  {
   "cell_type": "code",
   "execution_count": 52,
   "id": "cfe6f31d",
   "metadata": {},
   "outputs": [
    {
     "data": {
      "text/plain": [
       "['biryani', 'biryani', 'biryani', 'biryani']"
      ]
     },
     "execution_count": 52,
     "metadata": {},
     "output_type": "execute_result"
    }
   ],
   "source": [
    "x=\"biryani\\nbiryani\\nbiryani\\nbiryani\"\n",
    "\n",
    "re.findall(\"^biryani\",x,flags=re.MULTILINE)\n",
    "\n",
    "# It matches biryani in anyline as we use \"flags=re.MULTILINE\"\n",
    "# It considers whole as one string "
   ]
  },
  {
   "cell_type": "code",
   "execution_count": 53,
   "id": "13ccbb56",
   "metadata": {},
   "outputs": [
    {
     "data": {
      "text/plain": [
       "['biryani', 'biryani', 'biryani', 'biryani']"
      ]
     },
     "execution_count": 53,
     "metadata": {},
     "output_type": "execute_result"
    }
   ],
   "source": [
    "x=\"biryani\\nbiryani\\nbiryani\\nbiryani\"\n",
    "\n",
    "re.findall(\"^biryani\",x,re.MULTILINE)\n",
    "\n",
    "# Without using flags we can directly give re.DOTALL "
   ]
  },
  {
   "cell_type": "markdown",
   "id": "e0068d27",
   "metadata": {},
   "source": [
    "- Flags = **re.DOTALL**"
   ]
  },
  {
   "cell_type": "code",
   "execution_count": 40,
   "id": "4cfba2e3",
   "metadata": {},
   "outputs": [
    {
     "data": {
      "text/plain": [
       "['b', 'i', 'r', 'y', 'a', 'n', 'i', '\\n', 'b', 'i', 'r', 'y', 'a', 'n', 'i']"
      ]
     },
     "execution_count": 40,
     "metadata": {},
     "output_type": "execute_result"
    }
   ],
   "source": [
    " x=\"biryani\\nbiryani\"\n",
    "\n",
    "re.findall(\".\",x,flags=re.DOTALL)"
   ]
  },
  {
   "cell_type": "markdown",
   "id": "b08d3cd0",
   "metadata": {},
   "source": [
    "- re.sub(\"pattern\",\"replacement\",\"string\")"
   ]
  },
  {
   "cell_type": "code",
   "execution_count": 60,
   "id": "f7754ac8",
   "metadata": {},
   "outputs": [
    {
     "data": {
      "text/plain": [
       "' gdhsidb ihdiwhd hgidshdih  sdw '"
      ]
     },
     "execution_count": 60,
     "metadata": {},
     "output_type": "execute_result"
    }
   ],
   "source": [
    "a = \"<hari> gdhsidb ihdiwhd hgidshdih <m> sdw</hari> <>\"\n",
    "\n",
    "re.sub(\"<.*?>\",\"\",a)\n",
    "\n",
    "# It replaces tags with no space"
   ]
  },
  {
   "cell_type": "code",
   "execution_count": 61,
   "id": "a1f7d3db",
   "metadata": {},
   "outputs": [
    {
     "data": {
      "text/plain": [
       "'@ gdhsidb ihdiwhd hgidshdih @ sdw@ @'"
      ]
     },
     "execution_count": 61,
     "metadata": {},
     "output_type": "execute_result"
    }
   ],
   "source": [
    "a = \"<hari> gdhsidb ihdiwhd hgidshdih <m> sdw</hari> <>\"\n",
    "\n",
    "re.sub(\"<.*?>\",\"@\",a)\n",
    "\n",
    "# It replaces the pattern with @@@@"
   ]
  },
  {
   "cell_type": "code",
   "execution_count": 62,
   "id": "89c9f79c",
   "metadata": {},
   "outputs": [
    {
     "data": {
      "text/plain": [
       "['<hari>', '<m>', '</hari>', '<>']"
      ]
     },
     "execution_count": 62,
     "metadata": {},
     "output_type": "execute_result"
    }
   ],
   "source": [
    "a = \"<hari> gdhsidb ihdiwhd hgidshdih <m> sdw</hari> <>\"\n",
    "\n",
    "re.findall(\"<.*?>\",a)"
   ]
  },
  {
   "cell_type": "code",
   "execution_count": 65,
   "id": "a9cf35b6",
   "metadata": {},
   "outputs": [
    {
     "data": {
      "text/plain": [
       "['<hari> gdhsidb ihdiwhd hgidshdih <m> sdw</hari> <>']"
      ]
     },
     "execution_count": 65,
     "metadata": {},
     "output_type": "execute_result"
    }
   ],
   "source": [
    "a = \"<hari> gdhsidb ihdiwhd hgidshdih <m> sdw</hari> <>\"\n",
    "\n",
    "re.findall(\"<.+\",a)\n",
    "\n",
    "# It returns whole \"a\""
   ]
  },
  {
   "cell_type": "code",
   "execution_count": 63,
   "id": "e2f1a586",
   "metadata": {},
   "outputs": [
    {
     "data": {
      "text/plain": [
       "' gdhsidb ihdiwhd hgidshdih <m> sdw</hari> <>'"
      ]
     },
     "execution_count": 63,
     "metadata": {},
     "output_type": "execute_result"
    }
   ],
   "source": [
    "a = \"<hari> gdhsidb ihdiwhd hgidshdih <m> sdw</hari> <>\"\n",
    "\n",
    "re.sub(\"<.*?>\",\"\",a,count=1)\n",
    "\n",
    "# if i want to replace 1st html tag use count=1 as the parametre\n",
    "# when we dont use 1st html tag we replace that and remaining all are onmsidered"
   ]
  },
  {
   "cell_type": "code",
   "execution_count": 66,
   "id": "c9200243",
   "metadata": {},
   "outputs": [
    {
     "data": {
      "text/plain": [
       "' gdhsidb ihdiwhd hgidshdih  sdw</hari> <>'"
      ]
     },
     "execution_count": 66,
     "metadata": {},
     "output_type": "execute_result"
    }
   ],
   "source": [
    "a = \"<hari> gdhsidb ihdiwhd hgidshdih <m> sdw</hari> <>\"\n",
    "\n",
    "re.sub(\"<.*?>\",\"\",a,count=2)"
   ]
  },
  {
   "cell_type": "code",
   "execution_count": 47,
   "id": "7d8698e7",
   "metadata": {},
   "outputs": [
    {
     "data": {
      "text/plain": [
       "' '"
      ]
     },
     "execution_count": 47,
     "metadata": {},
     "output_type": "execute_result"
    }
   ],
   "source": [
    "text = \"biryani Biryani\"\n",
    "\n",
    "re.sub(r\"\\bbiryani\\b\",\"\",text,count=0,flags=re.IGNORECASE)\n",
    "\n",
    "# Where ever biryani is there remove it"
   ]
  },
  {
   "cell_type": "code",
   "execution_count": 71,
   "id": "0f0d55b3",
   "metadata": {},
   "outputs": [
    {
     "data": {
      "text/plain": [
       "''"
      ]
     },
     "execution_count": 71,
     "metadata": {},
     "output_type": "execute_result"
    }
   ],
   "source": [
    "text = \"<html> asda asda <b> sada</br> <>\"\n",
    "\n",
    "re.sub(\".+\",\"\",text)\n",
    "\n",
    "#replacing each and every character with empty space"
   ]
  },
  {
   "cell_type": "code",
   "execution_count": 72,
   "id": "d74e65dd",
   "metadata": {},
   "outputs": [],
   "source": [
    "import re"
   ]
  },
  {
   "cell_type": "code",
   "execution_count": 73,
   "id": "f514b46a",
   "metadata": {},
   "outputs": [
    {
     "data": {
      "text/plain": [
       "['23']"
      ]
     },
     "execution_count": 73,
     "metadata": {},
     "output_type": "execute_result"
    }
   ],
   "source": [
    "a = \"ddkb1 1 1 23 3 4 5 5 5\"\n",
    "\n",
    "re.findall(\"\\d\\d|\\d\\d\\d\",a)\n",
    "\n",
    "# It matched 2 digits so we gave or condition it wont match 3 digits"
   ]
  },
  {
   "cell_type": "code",
   "execution_count": 75,
   "id": "33a83936",
   "metadata": {},
   "outputs": [
    {
     "data": {
      "text/plain": [
       "['.']"
      ]
     },
     "execution_count": 75,
     "metadata": {},
     "output_type": "execute_result"
    }
   ],
   "source": [
    "text = \"uduwd % & * <  djwqhihfif .\"\n",
    "\n",
    "re.findall(\"[.]\",text)\n",
    "\n",
    "# when we use nay character in meta class use in \"[]\""
   ]
  },
  {
   "cell_type": "code",
   "execution_count": null,
   "id": "acf148ed",
   "metadata": {},
   "outputs": [],
   "source": []
  }
 ],
 "metadata": {
  "kernelspec": {
   "display_name": "Python 3 (ipykernel)",
   "language": "python",
   "name": "python3"
  },
  "language_info": {
   "codemirror_mode": {
    "name": "ipython",
    "version": 3
   },
   "file_extension": ".py",
   "mimetype": "text/x-python",
   "name": "python",
   "nbconvert_exporter": "python",
   "pygments_lexer": "ipython3",
   "version": "3.11.5"
  }
 },
 "nbformat": 4,
 "nbformat_minor": 5
}
